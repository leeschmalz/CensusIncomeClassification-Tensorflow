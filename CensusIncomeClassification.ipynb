{
 "cells": [
  {
   "cell_type": "markdown",
   "metadata": {
    "collapsed": true
   },
   "source": [
    "# Classify as above 50,000 or below 50,000"
   ]
  },
  {
   "cell_type": "code",
   "execution_count": 7,
   "metadata": {},
   "outputs": [
    {
     "name": "stderr",
     "output_type": "stream",
     "text": [
      "C:\\Users\\fq1228hj\\AppData\\Local\\Continuum\\anaconda3\\envs\\tfdeeplearning\\lib\\site-packages\\tensorflow\\python\\framework\\dtypes.py:458: FutureWarning: Passing (type, 1) or '1type' as a synonym of type is deprecated; in a future version of numpy, it will be understood as (type, (1,)) / '(1,)type'.\n",
      "  _np_qint8 = np.dtype([(\"qint8\", np.int8, 1)])\n",
      "C:\\Users\\fq1228hj\\AppData\\Local\\Continuum\\anaconda3\\envs\\tfdeeplearning\\lib\\site-packages\\tensorflow\\python\\framework\\dtypes.py:459: FutureWarning: Passing (type, 1) or '1type' as a synonym of type is deprecated; in a future version of numpy, it will be understood as (type, (1,)) / '(1,)type'.\n",
      "  _np_quint8 = np.dtype([(\"quint8\", np.uint8, 1)])\n",
      "C:\\Users\\fq1228hj\\AppData\\Local\\Continuum\\anaconda3\\envs\\tfdeeplearning\\lib\\site-packages\\tensorflow\\python\\framework\\dtypes.py:460: FutureWarning: Passing (type, 1) or '1type' as a synonym of type is deprecated; in a future version of numpy, it will be understood as (type, (1,)) / '(1,)type'.\n",
      "  _np_qint16 = np.dtype([(\"qint16\", np.int16, 1)])\n",
      "C:\\Users\\fq1228hj\\AppData\\Local\\Continuum\\anaconda3\\envs\\tfdeeplearning\\lib\\site-packages\\tensorflow\\python\\framework\\dtypes.py:461: FutureWarning: Passing (type, 1) or '1type' as a synonym of type is deprecated; in a future version of numpy, it will be understood as (type, (1,)) / '(1,)type'.\n",
      "  _np_quint16 = np.dtype([(\"quint16\", np.uint16, 1)])\n",
      "C:\\Users\\fq1228hj\\AppData\\Local\\Continuum\\anaconda3\\envs\\tfdeeplearning\\lib\\site-packages\\tensorflow\\python\\framework\\dtypes.py:462: FutureWarning: Passing (type, 1) or '1type' as a synonym of type is deprecated; in a future version of numpy, it will be understood as (type, (1,)) / '(1,)type'.\n",
      "  _np_qint32 = np.dtype([(\"qint32\", np.int32, 1)])\n",
      "C:\\Users\\fq1228hj\\AppData\\Local\\Continuum\\anaconda3\\envs\\tfdeeplearning\\lib\\site-packages\\tensorflow\\python\\framework\\dtypes.py:465: FutureWarning: Passing (type, 1) or '1type' as a synonym of type is deprecated; in a future version of numpy, it will be understood as (type, (1,)) / '(1,)type'.\n",
      "  np_resource = np.dtype([(\"resource\", np.ubyte, 1)])\n"
     ]
    }
   ],
   "source": [
    "import numpy as np\n",
    "import pandas as pd\n",
    "import tensorflow as tf"
   ]
  },
  {
   "cell_type": "code",
   "execution_count": 2,
   "metadata": {
    "collapsed": true
   },
   "outputs": [],
   "source": [
    "data = pd.read_csv('census_data.csv')"
   ]
  },
  {
   "cell_type": "code",
   "execution_count": 3,
   "metadata": {},
   "outputs": [
    {
     "data": {
      "text/plain": [
       "' >50K'"
      ]
     },
     "execution_count": 3,
     "metadata": {},
     "output_type": "execute_result"
    }
   ],
   "source": [
    "data['income_bracket'][32560]"
   ]
  },
  {
   "cell_type": "code",
   "execution_count": 4,
   "metadata": {},
   "outputs": [
    {
     "data": {
      "text/html": [
       "<div>\n",
       "<style>\n",
       "    .dataframe thead tr:only-child th {\n",
       "        text-align: right;\n",
       "    }\n",
       "\n",
       "    .dataframe thead th {\n",
       "        text-align: left;\n",
       "    }\n",
       "\n",
       "    .dataframe tbody tr th {\n",
       "        vertical-align: top;\n",
       "    }\n",
       "</style>\n",
       "<table border=\"1\" class=\"dataframe\">\n",
       "  <thead>\n",
       "    <tr style=\"text-align: right;\">\n",
       "      <th></th>\n",
       "      <th>age</th>\n",
       "      <th>workclass</th>\n",
       "      <th>education</th>\n",
       "      <th>education_num</th>\n",
       "      <th>marital_status</th>\n",
       "      <th>occupation</th>\n",
       "      <th>relationship</th>\n",
       "      <th>race</th>\n",
       "      <th>gender</th>\n",
       "      <th>capital_gain</th>\n",
       "      <th>capital_loss</th>\n",
       "      <th>hours_per_week</th>\n",
       "      <th>native_country</th>\n",
       "      <th>income_bracket</th>\n",
       "    </tr>\n",
       "  </thead>\n",
       "  <tbody>\n",
       "    <tr>\n",
       "      <th>32556</th>\n",
       "      <td>27</td>\n",
       "      <td>Private</td>\n",
       "      <td>Assoc-acdm</td>\n",
       "      <td>12</td>\n",
       "      <td>Married-civ-spouse</td>\n",
       "      <td>Tech-support</td>\n",
       "      <td>Wife</td>\n",
       "      <td>White</td>\n",
       "      <td>Female</td>\n",
       "      <td>0</td>\n",
       "      <td>0</td>\n",
       "      <td>38</td>\n",
       "      <td>United-States</td>\n",
       "      <td>&lt;=50K</td>\n",
       "    </tr>\n",
       "    <tr>\n",
       "      <th>32557</th>\n",
       "      <td>40</td>\n",
       "      <td>Private</td>\n",
       "      <td>HS-grad</td>\n",
       "      <td>9</td>\n",
       "      <td>Married-civ-spouse</td>\n",
       "      <td>Machine-op-inspct</td>\n",
       "      <td>Husband</td>\n",
       "      <td>White</td>\n",
       "      <td>Male</td>\n",
       "      <td>0</td>\n",
       "      <td>0</td>\n",
       "      <td>40</td>\n",
       "      <td>United-States</td>\n",
       "      <td>&gt;50K</td>\n",
       "    </tr>\n",
       "    <tr>\n",
       "      <th>32558</th>\n",
       "      <td>58</td>\n",
       "      <td>Private</td>\n",
       "      <td>HS-grad</td>\n",
       "      <td>9</td>\n",
       "      <td>Widowed</td>\n",
       "      <td>Adm-clerical</td>\n",
       "      <td>Unmarried</td>\n",
       "      <td>White</td>\n",
       "      <td>Female</td>\n",
       "      <td>0</td>\n",
       "      <td>0</td>\n",
       "      <td>40</td>\n",
       "      <td>United-States</td>\n",
       "      <td>&lt;=50K</td>\n",
       "    </tr>\n",
       "    <tr>\n",
       "      <th>32559</th>\n",
       "      <td>22</td>\n",
       "      <td>Private</td>\n",
       "      <td>HS-grad</td>\n",
       "      <td>9</td>\n",
       "      <td>Never-married</td>\n",
       "      <td>Adm-clerical</td>\n",
       "      <td>Own-child</td>\n",
       "      <td>White</td>\n",
       "      <td>Male</td>\n",
       "      <td>0</td>\n",
       "      <td>0</td>\n",
       "      <td>20</td>\n",
       "      <td>United-States</td>\n",
       "      <td>&lt;=50K</td>\n",
       "    </tr>\n",
       "    <tr>\n",
       "      <th>32560</th>\n",
       "      <td>52</td>\n",
       "      <td>Self-emp-inc</td>\n",
       "      <td>HS-grad</td>\n",
       "      <td>9</td>\n",
       "      <td>Married-civ-spouse</td>\n",
       "      <td>Exec-managerial</td>\n",
       "      <td>Wife</td>\n",
       "      <td>White</td>\n",
       "      <td>Female</td>\n",
       "      <td>15024</td>\n",
       "      <td>0</td>\n",
       "      <td>40</td>\n",
       "      <td>United-States</td>\n",
       "      <td>&gt;50K</td>\n",
       "    </tr>\n",
       "  </tbody>\n",
       "</table>\n",
       "</div>"
      ],
      "text/plain": [
       "       age      workclass    education  education_num       marital_status  \\\n",
       "32556   27        Private   Assoc-acdm             12   Married-civ-spouse   \n",
       "32557   40        Private      HS-grad              9   Married-civ-spouse   \n",
       "32558   58        Private      HS-grad              9              Widowed   \n",
       "32559   22        Private      HS-grad              9        Never-married   \n",
       "32560   52   Self-emp-inc      HS-grad              9   Married-civ-spouse   \n",
       "\n",
       "               occupation relationship    race   gender  capital_gain  \\\n",
       "32556        Tech-support         Wife   White   Female             0   \n",
       "32557   Machine-op-inspct      Husband   White     Male             0   \n",
       "32558        Adm-clerical    Unmarried   White   Female             0   \n",
       "32559        Adm-clerical    Own-child   White     Male             0   \n",
       "32560     Exec-managerial         Wife   White   Female         15024   \n",
       "\n",
       "       capital_loss  hours_per_week  native_country income_bracket  \n",
       "32556             0              38   United-States          <=50K  \n",
       "32557             0              40   United-States           >50K  \n",
       "32558             0              40   United-States          <=50K  \n",
       "32559             0              20   United-States          <=50K  \n",
       "32560             0              40   United-States           >50K  "
      ]
     },
     "execution_count": 4,
     "metadata": {},
     "output_type": "execute_result"
    }
   ],
   "source": [
    "data.tail()"
   ]
  },
  {
   "cell_type": "code",
   "execution_count": 5,
   "metadata": {
    "collapsed": true
   },
   "outputs": [],
   "source": [
    "data['income_bracket'] = data['income_bracket'].apply(lambda x : 0 if (x == ' <=50K') else 1,) "
   ]
  },
  {
   "cell_type": "code",
   "execution_count": 6,
   "metadata": {
    "collapsed": true
   },
   "outputs": [],
   "source": [
    "from sklearn.model_selection import train_test_split"
   ]
  },
  {
   "cell_type": "code",
   "execution_count": 13,
   "metadata": {
    "collapsed": true
   },
   "outputs": [],
   "source": [
    "X = data.drop('income_bracket',axis=1)\n",
    "y = data['income_bracket']"
   ]
  },
  {
   "cell_type": "code",
   "execution_count": 14,
   "metadata": {},
   "outputs": [],
   "source": [
    "X_train, X_test, y_train, y_test = train_test_split(X, y, test_size=0.3, random_state=101)"
   ]
  },
  {
   "cell_type": "code",
   "execution_count": 15,
   "metadata": {},
   "outputs": [],
   "source": [
    "age = tf.feature_column.numeric_column(\"age\")\n",
    "education_num = tf.feature_column.numeric_column(\"education_num\")\n",
    "capital_gain = tf.feature_column.numeric_column(\"capital_gain\")\n",
    "capital_loss = tf.feature_column.numeric_column(\"capital_loss\")\n",
    "hours_per_week = tf.feature_column.numeric_column(\"hours_per_week\")\n",
    "gender = tf.feature_column.categorical_column_with_vocabulary_list(\"gender\", [\"Female\", \"Male\"])\n",
    "occupation = tf.feature_column.categorical_column_with_hash_bucket(\"occupation\", hash_bucket_size=1000)\n",
    "marital_status = tf.feature_column.categorical_column_with_hash_bucket(\"marital_status\", hash_bucket_size=1000)\n",
    "relationship = tf.feature_column.categorical_column_with_hash_bucket(\"relationship\", hash_bucket_size=1000)\n",
    "education = tf.feature_column.categorical_column_with_hash_bucket(\"education\", hash_bucket_size=1000)\n",
    "workclass = tf.feature_column.categorical_column_with_hash_bucket(\"workclass\", hash_bucket_size=1000)\n",
    "native_country = tf.feature_column.categorical_column_with_hash_bucket(\"native_country\", hash_bucket_size=1000)"
   ]
  },
  {
   "cell_type": "code",
   "execution_count": 16,
   "metadata": {
    "collapsed": true
   },
   "outputs": [],
   "source": [
    "feat_cols = [gender,occupation,marital_status,relationship,education,workclass,native_country,\n",
    "            age,education_num,capital_gain,capital_loss,hours_per_week]"
   ]
  },
  {
   "cell_type": "code",
   "execution_count": 17,
   "metadata": {},
   "outputs": [],
   "source": [
    "input_func = tf.estimator.inputs.pandas_input_fn(x=X_train,y=y_train,batch_size=100,shuffle=True,num_epochs=None)"
   ]
  },
  {
   "cell_type": "code",
   "execution_count": 18,
   "metadata": {},
   "outputs": [
    {
     "name": "stdout",
     "output_type": "stream",
     "text": [
      "INFO:tensorflow:Using default config.\n",
      "WARNING:tensorflow:Using temporary folder as model directory: C:\\Users\\fq1228hj\\AppData\\Local\\Temp\\tmpb_cvgb9v\n",
      "INFO:tensorflow:Using config: {'_save_summary_steps': 100, '_log_step_count_steps': 100, '_session_config': None, '_keep_checkpoint_every_n_hours': 10000, '_save_checkpoints_secs': 600, '_tf_random_seed': 1, '_model_dir': 'C:\\\\Users\\\\fq1228hj\\\\AppData\\\\Local\\\\Temp\\\\tmpb_cvgb9v', '_save_checkpoints_steps': None, '_keep_checkpoint_max': 5}\n"
     ]
    }
   ],
   "source": [
    "model = tf.estimator.LinearClassifier(feature_columns=feat_cols)"
   ]
  },
  {
   "cell_type": "code",
   "execution_count": 19,
   "metadata": {},
   "outputs": [
    {
     "name": "stdout",
     "output_type": "stream",
     "text": [
      "INFO:tensorflow:Create CheckpointSaverHook.\n",
      "INFO:tensorflow:Saving checkpoints for 1 into C:\\Users\\fq1228hj\\AppData\\Local\\Temp\\tmpb_cvgb9v\\model.ckpt.\n",
      "INFO:tensorflow:step = 1, loss = 69.31474\n",
      "INFO:tensorflow:global_step/sec: 232.09\n",
      "INFO:tensorflow:step = 101, loss = 51.52557 (0.431 sec)\n",
      "INFO:tensorflow:global_step/sec: 276.487\n",
      "INFO:tensorflow:step = 201, loss = 96.91804 (0.366 sec)\n",
      "INFO:tensorflow:global_step/sec: 239.739\n",
      "INFO:tensorflow:step = 301, loss = 38.013866 (0.413 sec)\n",
      "INFO:tensorflow:global_step/sec: 210.6\n",
      "INFO:tensorflow:step = 401, loss = 68.41817 (0.475 sec)\n",
      "INFO:tensorflow:global_step/sec: 221.783\n",
      "INFO:tensorflow:step = 501, loss = 135.93227 (0.451 sec)\n",
      "INFO:tensorflow:global_step/sec: 227.349\n",
      "INFO:tensorflow:step = 601, loss = 123.10803 (0.440 sec)\n",
      "INFO:tensorflow:global_step/sec: 243.993\n",
      "INFO:tensorflow:step = 701, loss = 67.04837 (0.410 sec)\n",
      "INFO:tensorflow:global_step/sec: 289.798\n",
      "INFO:tensorflow:step = 801, loss = 302.22717 (0.345 sec)\n",
      "INFO:tensorflow:global_step/sec: 275.954\n",
      "INFO:tensorflow:step = 901, loss = 498.81003 (0.362 sec)\n",
      "INFO:tensorflow:global_step/sec: 256.951\n",
      "INFO:tensorflow:step = 1001, loss = 34.130596 (0.389 sec)\n",
      "INFO:tensorflow:global_step/sec: 283.21\n",
      "INFO:tensorflow:step = 1101, loss = 83.04501 (0.353 sec)\n",
      "INFO:tensorflow:global_step/sec: 277.494\n",
      "INFO:tensorflow:step = 1201, loss = 309.1344 (0.360 sec)\n",
      "INFO:tensorflow:global_step/sec: 257.079\n",
      "INFO:tensorflow:step = 1301, loss = 463.8331 (0.389 sec)\n",
      "INFO:tensorflow:global_step/sec: 303.036\n",
      "INFO:tensorflow:step = 1401, loss = 207.37216 (0.330 sec)\n",
      "INFO:tensorflow:global_step/sec: 264.166\n",
      "INFO:tensorflow:step = 1501, loss = 168.07321 (0.379 sec)\n",
      "INFO:tensorflow:global_step/sec: 267.244\n",
      "INFO:tensorflow:step = 1601, loss = 34.539597 (0.374 sec)\n",
      "INFO:tensorflow:global_step/sec: 291.759\n",
      "INFO:tensorflow:step = 1701, loss = 58.56664 (0.343 sec)\n",
      "INFO:tensorflow:global_step/sec: 265.801\n",
      "INFO:tensorflow:step = 1801, loss = 76.63862 (0.376 sec)\n",
      "INFO:tensorflow:global_step/sec: 301.159\n",
      "INFO:tensorflow:step = 1901, loss = 43.183918 (0.348 sec)\n",
      "INFO:tensorflow:global_step/sec: 273.169\n",
      "INFO:tensorflow:step = 2001, loss = 157.72397 (0.350 sec)\n",
      "INFO:tensorflow:global_step/sec: 278.736\n",
      "INFO:tensorflow:step = 2101, loss = 69.300446 (0.374 sec)\n",
      "INFO:tensorflow:global_step/sec: 245.309\n",
      "INFO:tensorflow:step = 2201, loss = 55.752586 (0.392 sec)\n",
      "INFO:tensorflow:global_step/sec: 275.672\n",
      "INFO:tensorflow:step = 2301, loss = 38.089874 (0.363 sec)\n",
      "INFO:tensorflow:global_step/sec: 264\n",
      "INFO:tensorflow:step = 2401, loss = 87.33502 (0.379 sec)\n",
      "INFO:tensorflow:global_step/sec: 291.934\n",
      "INFO:tensorflow:step = 2501, loss = 65.001274 (0.343 sec)\n",
      "INFO:tensorflow:global_step/sec: 267.918\n",
      "INFO:tensorflow:step = 2601, loss = 129.30072 (0.377 sec)\n",
      "INFO:tensorflow:global_step/sec: 259.435\n",
      "INFO:tensorflow:step = 2701, loss = 31.686218 (0.397 sec)\n",
      "INFO:tensorflow:global_step/sec: 278.863\n",
      "INFO:tensorflow:step = 2801, loss = 24.280807 (0.359 sec)\n",
      "INFO:tensorflow:global_step/sec: 240.757\n",
      "INFO:tensorflow:step = 2901, loss = 170.54904 (0.400 sec)\n",
      "INFO:tensorflow:global_step/sec: 227.127\n",
      "INFO:tensorflow:step = 3001, loss = 45.88131 (0.456 sec)\n",
      "INFO:tensorflow:global_step/sec: 209.953\n",
      "INFO:tensorflow:step = 3101, loss = 86.71179 (0.461 sec)\n",
      "INFO:tensorflow:global_step/sec: 266.635\n",
      "INFO:tensorflow:step = 3201, loss = 91.26831 (0.375 sec)\n",
      "INFO:tensorflow:global_step/sec: 276.363\n",
      "INFO:tensorflow:step = 3301, loss = 52.214493 (0.362 sec)\n",
      "INFO:tensorflow:global_step/sec: 267.471\n",
      "INFO:tensorflow:step = 3401, loss = 57.68467 (0.374 sec)\n",
      "INFO:tensorflow:global_step/sec: 286.19\n",
      "INFO:tensorflow:step = 3501, loss = 140.25323 (0.349 sec)\n",
      "INFO:tensorflow:global_step/sec: 280.861\n",
      "INFO:tensorflow:step = 3601, loss = 34.258568 (0.372 sec)\n",
      "INFO:tensorflow:global_step/sec: 249.921\n",
      "INFO:tensorflow:step = 3701, loss = 38.46181 (0.385 sec)\n",
      "INFO:tensorflow:global_step/sec: 220.059\n",
      "INFO:tensorflow:step = 3801, loss = 26.116554 (0.454 sec)\n",
      "INFO:tensorflow:global_step/sec: 261.923\n",
      "INFO:tensorflow:step = 3901, loss = 32.44449 (0.382 sec)\n",
      "INFO:tensorflow:global_step/sec: 253.68\n",
      "INFO:tensorflow:step = 4001, loss = 38.36796 (0.394 sec)\n",
      "INFO:tensorflow:global_step/sec: 287.174\n",
      "INFO:tensorflow:step = 4101, loss = 257.79935 (0.352 sec)\n",
      "INFO:tensorflow:global_step/sec: 285.386\n",
      "INFO:tensorflow:step = 4201, loss = 39.336735 (0.346 sec)\n",
      "INFO:tensorflow:global_step/sec: 211.021\n",
      "INFO:tensorflow:step = 4301, loss = 29.845938 (0.490 sec)\n",
      "INFO:tensorflow:global_step/sec: 189.846\n",
      "INFO:tensorflow:step = 4401, loss = 40.457134 (0.511 sec)\n",
      "INFO:tensorflow:global_step/sec: 293.555\n",
      "INFO:tensorflow:step = 4501, loss = 48.152122 (0.356 sec)\n",
      "INFO:tensorflow:global_step/sec: 262.019\n",
      "INFO:tensorflow:step = 4601, loss = 241.60034 (0.370 sec)\n",
      "INFO:tensorflow:global_step/sec: 269.839\n",
      "INFO:tensorflow:step = 4701, loss = 44.026733 (0.367 sec)\n",
      "INFO:tensorflow:global_step/sec: 292.001\n",
      "INFO:tensorflow:step = 4801, loss = 108.08901 (0.358 sec)\n",
      "INFO:tensorflow:global_step/sec: 270.852\n",
      "INFO:tensorflow:step = 4901, loss = 43.27512 (0.358 sec)\n",
      "INFO:tensorflow:Saving checkpoints for 5000 into C:\\Users\\fq1228hj\\AppData\\Local\\Temp\\tmpb_cvgb9v\\model.ckpt.\n",
      "INFO:tensorflow:Loss for final step: 119.64368.\n"
     ]
    },
    {
     "data": {
      "text/plain": [
       "<tensorflow.python.estimator.canned.linear.LinearClassifier at 0x257298c8128>"
      ]
     },
     "execution_count": 19,
     "metadata": {},
     "output_type": "execute_result"
    }
   ],
   "source": [
    "model.train(input_fn=input_func,steps=5000)"
   ]
  },
  {
   "cell_type": "code",
   "execution_count": 21,
   "metadata": {},
   "outputs": [],
   "source": [
    "pred_input_func = tf.estimator.inputs.pandas_input_fn(x=X_test,batch_size=len(X_test),num_epochs=1,shuffle=False)"
   ]
  },
  {
   "cell_type": "code",
   "execution_count": 35,
   "metadata": {},
   "outputs": [],
   "source": [
    "pred = model.predict(input_fn=pred_input_func)"
   ]
  },
  {
   "cell_type": "code",
   "execution_count": 36,
   "metadata": {},
   "outputs": [
    {
     "name": "stdout",
     "output_type": "stream",
     "text": [
      "INFO:tensorflow:Restoring parameters from C:\\Users\\fq1228hj\\AppData\\Local\\Temp\\tmpb_cvgb9v\\model.ckpt-5000\n"
     ]
    }
   ],
   "source": [
    "pred1 = list(pred)"
   ]
  },
  {
   "cell_type": "code",
   "execution_count": 39,
   "metadata": {},
   "outputs": [
    {
     "data": {
      "text/plain": [
       "0"
      ]
     },
     "execution_count": 39,
     "metadata": {},
     "output_type": "execute_result"
    }
   ],
   "source": [
    "pred1[1]['class_ids'][0]"
   ]
  },
  {
   "cell_type": "code",
   "execution_count": 42,
   "metadata": {
    "collapsed": true
   },
   "outputs": [],
   "source": [
    "final_pred = []\n",
    "for item in pred1:\n",
    "    final_pred.append(item['class_ids'][0])"
   ]
  },
  {
   "cell_type": "code",
   "execution_count": 45,
   "metadata": {
    "collapsed": true
   },
   "outputs": [],
   "source": [
    "from sklearn.metrics import classification_report, confusion_matrix"
   ]
  },
  {
   "cell_type": "code",
   "execution_count": 49,
   "metadata": {},
   "outputs": [
    {
     "name": "stdout",
     "output_type": "stream",
     "text": [
      "[[6423 1013]\n",
      " [ 668 1665]]\n",
      "\n",
      "\n",
      "              precision    recall  f1-score   support\n",
      "\n",
      "           0       0.91      0.86      0.88      7436\n",
      "           1       0.62      0.71      0.66      2333\n",
      "\n",
      "    accuracy                           0.83      9769\n",
      "   macro avg       0.76      0.79      0.77      9769\n",
      "weighted avg       0.84      0.83      0.83      9769\n",
      "\n"
     ]
    }
   ],
   "source": [
    "print(confusion_matrix(y_test,final_pred))\n",
    "print('\\n')\n",
    "print(classification_report(y_test,final_pred))"
   ]
  }
 ],
 "metadata": {
  "kernelspec": {
   "display_name": "Python 3",
   "language": "python",
   "name": "python3"
  },
  "language_info": {
   "codemirror_mode": {
    "name": "ipython",
    "version": 3
   },
   "file_extension": ".py",
   "mimetype": "text/x-python",
   "name": "python",
   "nbconvert_exporter": "python",
   "pygments_lexer": "ipython3",
   "version": "3.5.4"
  }
 },
 "nbformat": 4,
 "nbformat_minor": 2
}
